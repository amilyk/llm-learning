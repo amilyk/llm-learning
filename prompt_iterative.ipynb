{
 "cells": [
  {
   "cell_type": "code",
   "execution_count": 5,
   "metadata": {},
   "outputs": [],
   "source": [
    "import openai\n",
    "import os\n",
    "from dotenv import load_dotenv, find_dotenv\n",
    "\n",
    "_ = load_dotenv(find_dotenv())\n",
    "openai_api_key = os.environ['OPENAI_API_KEY']\n",
    "\n",
    "from openai import OpenAI\n",
    "\n",
    "client = OpenAI(\n",
    "    # This is the default and can be omitted\n",
    "    api_key=os.environ.get(\"OPENAI_API_KEY\"),\n",
    ")\n",
    "\n",
    "\n",
    "def gen_gpt_messages(prompt):\n",
    "    messages = [{\"role\": \"user\", \"content\": prompt}]\n",
    "    return messages\n",
    "\n",
    "\n",
    "def get_completion(prompt, model=\"gpt-3.5-turbo\", temperature = 0):\n",
    "    response = client.chat.completions.create(\n",
    "        model=model,\n",
    "        messages=gen_gpt_messages(prompt),\n",
    "        temperature=temperature,\n",
    "    )\n",
    "    if len(response.choices) > 0:\n",
    "        return response.choices[0].message.content\n",
    "    return \"generate answer error\""
   ]
  },
  {
   "cell_type": "markdown",
   "metadata": {},
   "source": [
    "#### 营销产品描述"
   ]
  },
  {
   "cell_type": "code",
   "execution_count": 6,
   "metadata": {},
   "outputs": [],
   "source": [
    "# 示例：产品说明书\n",
    "fact_sheet_chair = \"\"\"\n",
    "概述\n",
    "\n",
    "    美丽的中世纪风格办公家具系列的一部分，包括文件柜、办公桌、书柜、会议桌等。\n",
    "    多种外壳颜色和底座涂层可选。\n",
    "    可选塑料前后靠背装饰（SWC-100）或10种面料和6种皮革的全面装饰（SWC-110）。\n",
    "    底座涂层选项为：不锈钢、哑光黑色、光泽白色或铬。\n",
    "    椅子可带或不带扶手。\n",
    "    适用于家庭或商业场所。\n",
    "    符合合同使用资格。\n",
    "\n",
    "结构\n",
    "\n",
    "    五个轮子的塑料涂层铝底座。\n",
    "    气动椅子调节，方便升降。\n",
    "\n",
    "尺寸\n",
    "\n",
    "    宽度53厘米|20.87英寸\n",
    "    深度51厘米|20.08英寸\n",
    "    高度80厘米|31.50英寸\n",
    "    座椅高度44厘米|17.32英寸\n",
    "    座椅深度41厘米|16.14英寸\n",
    "\n",
    "选项\n",
    "\n",
    "    软地板或硬地板滚轮选项。\n",
    "    两种座椅泡沫密度可选：中等（1.8磅/立方英尺）或高（2.8磅/立方英尺）。\n",
    "    无扶手或8个位置PU扶手。\n",
    "\n",
    "材料\n",
    "外壳底座滑动件\n",
    "\n",
    "    改性尼龙PA6/PA66涂层的铸铝。\n",
    "    外壳厚度：10毫米。\n",
    "    座椅\n",
    "    HD36泡沫\n",
    "\n",
    "原产国\n",
    "\n",
    "    意大利\n",
    "\"\"\""
   ]
  },
  {
   "cell_type": "code",
   "execution_count": 7,
   "metadata": {},
   "outputs": [
    {
     "name": "stdout",
     "output_type": "stream",
     "text": [
      "产品描述：\n",
      "\n",
      "我们自豪地推出美丽的中世纪风格办公家具系列，包括文件柜、办公桌、书柜、会议桌等。这一系列的产品设计精美，结构稳固，适用于家庭或商业场所。\n",
      "\n",
      "我们的办公椅采用五个轮子的塑料涂层铝底座，配有气动椅子调节功能，方便用户进行高度调节。座椅尺寸宽敞舒适，座椅高度和深度均可满足不同用户的需求。\n",
      "\n",
      "客户可以根据个人喜好选择多种外壳颜色和底座涂层，还可以选择塑料前后靠背装饰或面料和皮革的全面装饰。底座涂层选项包括不锈钢、哑光黑色、光泽白色或铬，椅子可带或不带扶手，满足不同用户的审美和功能需求。\n",
      "\n",
      "我们提供软地板或硬地板滚轮选项，座椅泡沫密度可选中等或高，还可选择无扶手或8个位置PU扶手，让用户根据自己的喜好和需求进行个性化定制。\n",
      "\n",
      "所有产品均采用高质量的材料制造，外壳底座滑动件采用改性尼龙PA6/PA66涂层的铸铝，座椅采用HD36泡沫，保证产品的耐用性和舒适性。\n",
      "\n",
      "这一系列产品的原产国是意大利，符合合同使用资格，是您打造舒适、时尚办公空间的理想选择。让我们的中世纪风格办公家具系列为您的办公室增添一份优雅和品味。\n"
     ]
    }
   ],
   "source": [
    "prompt = f\"\"\"\n",
    "您的任务是帮助营销团队基于技术说明书创建一个产品的营销描述\n",
    "根据```标记的技术说明书中提供的信息，编写一个产品描述。\n",
    "技术说明: ```{fact_sheet_chair}```\n",
    "\"\"\"\n",
    "response = get_completion(prompt)\n",
    "print(response)"
   ]
  },
  {
   "cell_type": "code",
   "execution_count": 8,
   "metadata": {},
   "outputs": [
    {
     "name": "stdout",
     "output_type": "stream",
     "text": [
      "我们自豪地推出中世纪风格办公家具系列，包括文件柜、办公桌、书柜等。多种颜色和底座涂层可选，可选择不同的装饰风格。适用于家庭或商业场所，符合合同使用资格。轮子座椅调节，尺寸适中，选项丰富。来自意大利，品质保证。\n"
     ]
    }
   ],
   "source": [
    "#字数太多\n",
    "prompt = f\"\"\"\n",
    "您的任务是帮助营销团队基于技术说明书创建一个产品的营销描述\n",
    "根据```标记的技术说明书中提供的信息，编写一个产品描述。\n",
    "使用最多50个词\n",
    "技术说明: ```{fact_sheet_chair}```\n",
    "\"\"\"\n",
    "response = get_completion(prompt)\n",
    "print(response)"
   ]
  },
  {
   "cell_type": "code",
   "execution_count": 9,
   "metadata": {},
   "outputs": [
    {
     "name": "stdout",
     "output_type": "stream",
     "text": [
      "这款中世纪风格办公家具系列包括文件柜、办公桌、书柜和会议桌，适用于家庭和商业场所。座椅采用气动调节，底座为塑料涂层铝制，可选不锈钢、黑色、白色或铬涂层。材料包括改性尼龙PA6/PA66涂层的铸铝和HD36泡沫，符合合同使用资格。意大利制造。\n"
     ]
    }
   ],
   "source": [
    "#描述对象其实不是消费者，而是家具零售商注重细节\n",
    "prompt = f\"\"\"\n",
    "您的任务是帮助营销团队基于技术说明书创建一个产品的营销描述\n",
    "根据```标记的技术说明书中提供的信息，编写一个产品描述。\n",
    "该描述面向家具零售商，因此应具有技术性质，并侧重产品的材料构造。\n",
    "使用最多50个单词\n",
    "技术说明: ```{fact_sheet_chair}```\n",
    "\"\"\"\n",
    "response = get_completion(prompt)\n",
    "print(response)"
   ]
  },
  {
   "cell_type": "code",
   "execution_count": 10,
   "metadata": {},
   "outputs": [
    {
     "name": "stdout",
     "output_type": "stream",
     "text": [
      "这款中世纪风格办公家具系列包括文件柜、办公桌、书柜和会议桌，适用于家庭和商业场所。可选择多种外壳颜色和底座涂层，座椅可选塑料或面料/皮革装饰。底座涂层有不锈钢、哑光黑色、光泽白色或铬选项。结构坚固，座椅可调节高度，座椅和座椅深度均符合人体工程学。产品ID：SWC-100。\n"
     ]
    }
   ],
   "source": [
    "#增加产品ID\n",
    "prompt = f\"\"\"\n",
    "您的任务是帮助营销团队基于技术说明书创建一个产品的营销描述\n",
    "根据```标记的技术说明书中提供的信息，编写一个产品描述。\n",
    "该描述面向家具零售商，因此应具有技术性质，并侧重产品的材料构造。\n",
    "在描述末尾，包括技术规格中的每个7个字符的产品ID。\n",
    "使用最多50个单词\n",
    "技术说明: ```{fact_sheet_chair}```\n",
    "\"\"\"\n",
    "response = get_completion(prompt)\n",
    "print(response)"
   ]
  },
  {
   "cell_type": "code",
   "execution_count": 11,
   "metadata": {},
   "outputs": [
    {
     "name": "stdout",
     "output_type": "stream",
     "text": [
      "```html\n",
      "<div>\n",
      "    <p>这款中世纪风格办公家具系列是您家具店的理想选择。包括文件柜、办公桌、书柜、会议桌等，适用于家庭或商业场所。外壳颜色和底座涂层多样，可根据需求选择。椅子可选带或不带扶手，座椅高度和深度均可调节，符合合同使用资格。</p>\n",
      "    <p>结构坚固，采用五个轮子的塑料涂层铝底座，配备气动椅子调节功能，方便升降。材料优质，外壳底座滑动件采用改性尼龙PA6/PA66涂层的铸铝，座椅采用HD36泡沫，确保舒适性和耐用性。</p>\n",
      "    <p>此产品的尺寸为：宽度53厘米（20.87英寸）、深度51厘米（20.08英寸）、高度80厘米（31.50英寸）、座椅高度44厘米（17.32英寸）、座椅深度41厘米（16.14英寸）。</p>\n",
      "    <p>可选配件包括软地板或硬地板滚轮、两种座椅泡沫密度可选、无扶手或8个位置PU扶手等。原产国为意大利。</p>\n",
      "    <p>产品ID: SWC-100</p>\n",
      "</div>\n",
      "\n",
      "<table>\n",
      "    <caption>产品尺寸</caption>\n",
      "    <tr>\n",
      "        <th>尺寸名称</th>\n",
      "        <th>英寸测量值</th>\n",
      "    </tr>\n",
      "    <tr>\n",
      "        <td>宽度</td>\n",
      "        <td>20.87</td>\n",
      "    </tr>\n",
      "    <tr>\n",
      "        <td>深度</td>\n",
      "        <td>20.08</td>\n",
      "    </tr>\n",
      "    <tr>\n",
      "        <td>高度</td>\n",
      "        <td>31.50</td>\n",
      "    </tr>\n",
      "    <tr>\n",
      "        <td>座椅高度</td>\n",
      "        <td>17.32</td>\n",
      "    </tr>\n",
      "    <tr>\n",
      "        <td>座椅深度</td>\n",
      "        <td>16.14</td>\n",
      "    </tr>\n",
      "</table>\n",
      "```\n"
     ]
    },
    {
     "data": {
      "text/html": [
       "```html\n",
       "<div>\n",
       "    <p>这款中世纪风格办公家具系列是您家具店的理想选择。包括文件柜、办公桌、书柜、会议桌等，适用于家庭或商业场所。外壳颜色和底座涂层多样，可根据需求选择。椅子可选带或不带扶手，座椅高度和深度均可调节，符合合同使用资格。</p>\n",
       "    <p>结构坚固，采用五个轮子的塑料涂层铝底座，配备气动椅子调节功能，方便升降。材料优质，外壳底座滑动件采用改性尼龙PA6/PA66涂层的铸铝，座椅采用HD36泡沫，确保舒适性和耐用性。</p>\n",
       "    <p>此产品的尺寸为：宽度53厘米（20.87英寸）、深度51厘米（20.08英寸）、高度80厘米（31.50英寸）、座椅高度44厘米（17.32英寸）、座椅深度41厘米（16.14英寸）。</p>\n",
       "    <p>可选配件包括软地板或硬地板滚轮、两种座椅泡沫密度可选、无扶手或8个位置PU扶手等。原产国为意大利。</p>\n",
       "    <p>产品ID: SWC-100</p>\n",
       "</div>\n",
       "\n",
       "<table>\n",
       "    <caption>产品尺寸</caption>\n",
       "    <tr>\n",
       "        <th>尺寸名称</th>\n",
       "        <th>英寸测量值</th>\n",
       "    </tr>\n",
       "    <tr>\n",
       "        <td>宽度</td>\n",
       "        <td>20.87</td>\n",
       "    </tr>\n",
       "    <tr>\n",
       "        <td>深度</td>\n",
       "        <td>20.08</td>\n",
       "    </tr>\n",
       "    <tr>\n",
       "        <td>高度</td>\n",
       "        <td>31.50</td>\n",
       "    </tr>\n",
       "    <tr>\n",
       "        <td>座椅高度</td>\n",
       "        <td>17.32</td>\n",
       "    </tr>\n",
       "    <tr>\n",
       "        <td>座椅深度</td>\n",
       "        <td>16.14</td>\n",
       "    </tr>\n",
       "</table>\n",
       "```"
      ],
      "text/plain": [
       "<IPython.core.display.HTML object>"
      ]
     },
     "metadata": {},
     "output_type": "display_data"
    }
   ],
   "source": [
    "#添加表格描述，内容可以HTML展示\n",
    "prompt = f\"\"\"\n",
    "您的任务是帮助营销团队基于技术说明书创建一个产品的营销描述\n",
    "根据```标记的技术说明书中提供的信息，编写一个产品描述。\n",
    "该描述面向家具零售商，因此应具有技术性质，并侧重产品的材料构造。\n",
    "在描述末尾，包括技术规格中的每个7个字符的产品ID。\n",
    "在描述之后，包括一个表格，提供产品的尺寸，表格应该有两列。第一列包括尺寸的名称。第二列只包括英寸的测量值。\n",
    "\n",
    "给表格命名为“产品尺寸”。\n",
    "\n",
    "将所有内容格式化为可用于网站的HTML格式。将描述放在<div>元素中。\n",
    "技术规格: ```{fact_sheet_chair}```\n",
    "\"\"\"\n",
    "response = get_completion(prompt)\n",
    "print(response)\n",
    "\n",
    "from IPython.display import display, HTML\n",
    "display(HTML(response))"
   ]
  },
  {
   "cell_type": "code",
   "execution_count": null,
   "metadata": {},
   "outputs": [],
   "source": []
  }
 ],
 "metadata": {
  "kernelspec": {
   "display_name": "llm-universe",
   "language": "python",
   "name": "python3"
  },
  "language_info": {
   "codemirror_mode": {
    "name": "ipython",
    "version": 3
   },
   "file_extension": ".py",
   "mimetype": "text/x-python",
   "name": "python",
   "nbconvert_exporter": "python",
   "pygments_lexer": "ipython3",
   "version": "3.10.14"
  }
 },
 "nbformat": 4,
 "nbformat_minor": 2
}
