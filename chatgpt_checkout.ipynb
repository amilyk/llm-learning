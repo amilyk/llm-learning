{
 "cells": [
  {
   "cell_type": "code",
   "execution_count": 2,
   "metadata": {},
   "outputs": [
    {
     "name": "stdout",
     "output_type": "stream",
     "text": [
      "Moderation(categories=Categories(harassment=False, harassment_threatening=False, hate=False, hate_threatening=False, self_harm=False, self_harm_instructions=False, self_harm_intent=False, sexual=False, sexual_minors=False, violence=False, violence_graphic=False, self-harm=False, sexual/minors=False, hate/threatening=False, violence/graphic=False, self-harm/intent=False, self-harm/instructions=False, harassment/threatening=False), category_scores=CategoryScores(harassment=4.644865475711413e-05, harassment_threatening=5.094059815746732e-06, hate=3.467775286480901e-06, hate_threatening=5.4242564146989025e-06, self_harm=2.4965422198874876e-05, self_harm_instructions=5.499837698152987e-06, self_harm_intent=7.931356776680332e-06, sexual=0.00122237135656178, sexual_minors=0.00016082391084637493, violence=0.00013727607438340783, violence_graphic=5.653366315527819e-05, self-harm=2.4965422198874876e-05, sexual/minors=0.00016082391084637493, hate/threatening=5.4242564146989025e-06, violence/graphic=5.653366315527819e-05, self-harm/intent=7.931356776680332e-06, self-harm/instructions=5.499837698152987e-06, harassment/threatening=5.094059815746732e-06), flagged=False)\n"
     ]
    }
   ],
   "source": [
    "from chat_tools import get_completion, get_completion_from_messages, get_completion_and_token_count\n",
    "import pandas as pd\n",
    "from io import StringIO\n",
    "from openai import OpenAI\n",
    "import os\n",
    "\n",
    "from dotenv import load_dotenv, find_dotenv\n",
    "\n",
    "_ = load_dotenv(find_dotenv())\n",
    "\n",
    "client = OpenAI(\n",
    "    # This is the default and can be omitted\n",
    "    api_key=os.environ.get(\"OPENAI_API_KEY\"),\n",
    ")\n",
    "\n",
    "final_response_to_customer = f\"\"\"\n",
    "SmartX ProPhone 有一个 6.1 英寸的显示屏，128GB 存储、\\\n",
    "1200 万像素的双摄像头，以及 5G。FotoSnap 单反相机\\\n",
    "有一个 2420 万像素的传感器，1080p 视频，3 英寸 LCD 和\\\n",
    "可更换的镜头。我们有各种电视，包括 CineView 4K 电视，\\\n",
    "55 英寸显示屏，4K 分辨率、HDR，以及智能电视功能。\\\n",
    "我们也有 SoundMax 家庭影院系统，具有 5.1 声道，\\\n",
    "1000W 输出，无线重低音扬声器和蓝牙。关于这些产品或\\\n",
    "我们提供的任何其他产品您是否有任何具体问题？\n",
    "\"\"\"\n",
    "\n",
    "response = client.moderations.create(input=final_response_to_customer)\n",
    "moderation_output = response.results[0]\n",
    "print(moderation_output)"
   ]
  },
  {
   "cell_type": "code",
   "execution_count": 4,
   "metadata": {},
   "outputs": [
    {
     "data": {
      "text/plain": [
       "False"
      ]
     },
     "execution_count": 4,
     "metadata": {},
     "output_type": "execute_result"
    }
   ],
   "source": [
    "moderation_output.flagged"
   ]
  },
  {
   "cell_type": "code",
   "execution_count": 30,
   "metadata": {},
   "outputs": [],
   "source": [
    "category_scores = pd.DataFrame(moderation_output.category_scores, columns=['category', 'scores'])\n",
    "moderation_cate = pd.DataFrame(moderation_output.categories, columns=['category', 'result'])\n",
    "                       "
   ]
  },
  {
   "cell_type": "code",
   "execution_count": 31,
   "metadata": {},
   "outputs": [
    {
     "data": {
      "text/html": [
       "<div>\n",
       "<style scoped>\n",
       "    .dataframe tbody tr th:only-of-type {\n",
       "        vertical-align: middle;\n",
       "    }\n",
       "\n",
       "    .dataframe tbody tr th {\n",
       "        vertical-align: top;\n",
       "    }\n",
       "\n",
       "    .dataframe thead th {\n",
       "        text-align: right;\n",
       "    }\n",
       "</style>\n",
       "<table border=\"1\" class=\"dataframe\">\n",
       "  <thead>\n",
       "    <tr style=\"text-align: right;\">\n",
       "      <th></th>\n",
       "      <th>category</th>\n",
       "      <th>scores</th>\n",
       "      <th>result</th>\n",
       "    </tr>\n",
       "  </thead>\n",
       "  <tbody>\n",
       "    <tr>\n",
       "      <th>0</th>\n",
       "      <td>harassment</td>\n",
       "      <td>0.000046</td>\n",
       "      <td>False</td>\n",
       "    </tr>\n",
       "    <tr>\n",
       "      <th>1</th>\n",
       "      <td>harassment_threatening</td>\n",
       "      <td>0.000005</td>\n",
       "      <td>False</td>\n",
       "    </tr>\n",
       "    <tr>\n",
       "      <th>2</th>\n",
       "      <td>hate</td>\n",
       "      <td>0.000003</td>\n",
       "      <td>False</td>\n",
       "    </tr>\n",
       "    <tr>\n",
       "      <th>3</th>\n",
       "      <td>hate_threatening</td>\n",
       "      <td>0.000005</td>\n",
       "      <td>False</td>\n",
       "    </tr>\n",
       "    <tr>\n",
       "      <th>4</th>\n",
       "      <td>self_harm</td>\n",
       "      <td>0.000025</td>\n",
       "      <td>False</td>\n",
       "    </tr>\n",
       "    <tr>\n",
       "      <th>5</th>\n",
       "      <td>self_harm_instructions</td>\n",
       "      <td>0.000005</td>\n",
       "      <td>False</td>\n",
       "    </tr>\n",
       "    <tr>\n",
       "      <th>6</th>\n",
       "      <td>self_harm_intent</td>\n",
       "      <td>0.000008</td>\n",
       "      <td>False</td>\n",
       "    </tr>\n",
       "    <tr>\n",
       "      <th>7</th>\n",
       "      <td>sexual</td>\n",
       "      <td>0.001222</td>\n",
       "      <td>False</td>\n",
       "    </tr>\n",
       "    <tr>\n",
       "      <th>8</th>\n",
       "      <td>sexual_minors</td>\n",
       "      <td>0.000161</td>\n",
       "      <td>False</td>\n",
       "    </tr>\n",
       "    <tr>\n",
       "      <th>9</th>\n",
       "      <td>violence</td>\n",
       "      <td>0.000137</td>\n",
       "      <td>False</td>\n",
       "    </tr>\n",
       "    <tr>\n",
       "      <th>10</th>\n",
       "      <td>violence_graphic</td>\n",
       "      <td>0.000057</td>\n",
       "      <td>False</td>\n",
       "    </tr>\n",
       "    <tr>\n",
       "      <th>11</th>\n",
       "      <td>self-harm</td>\n",
       "      <td>0.000025</td>\n",
       "      <td>False</td>\n",
       "    </tr>\n",
       "    <tr>\n",
       "      <th>12</th>\n",
       "      <td>sexual/minors</td>\n",
       "      <td>0.000161</td>\n",
       "      <td>False</td>\n",
       "    </tr>\n",
       "    <tr>\n",
       "      <th>13</th>\n",
       "      <td>hate/threatening</td>\n",
       "      <td>0.000005</td>\n",
       "      <td>False</td>\n",
       "    </tr>\n",
       "    <tr>\n",
       "      <th>14</th>\n",
       "      <td>violence/graphic</td>\n",
       "      <td>0.000057</td>\n",
       "      <td>False</td>\n",
       "    </tr>\n",
       "    <tr>\n",
       "      <th>15</th>\n",
       "      <td>self-harm/intent</td>\n",
       "      <td>0.000008</td>\n",
       "      <td>False</td>\n",
       "    </tr>\n",
       "    <tr>\n",
       "      <th>16</th>\n",
       "      <td>self-harm/instructions</td>\n",
       "      <td>0.000005</td>\n",
       "      <td>False</td>\n",
       "    </tr>\n",
       "    <tr>\n",
       "      <th>17</th>\n",
       "      <td>harassment/threatening</td>\n",
       "      <td>0.000005</td>\n",
       "      <td>False</td>\n",
       "    </tr>\n",
       "  </tbody>\n",
       "</table>\n",
       "</div>"
      ],
      "text/plain": [
       "                  category    scores  result\n",
       "0               harassment  0.000046   False\n",
       "1   harassment_threatening  0.000005   False\n",
       "2                     hate  0.000003   False\n",
       "3         hate_threatening  0.000005   False\n",
       "4                self_harm  0.000025   False\n",
       "5   self_harm_instructions  0.000005   False\n",
       "6         self_harm_intent  0.000008   False\n",
       "7                   sexual  0.001222   False\n",
       "8            sexual_minors  0.000161   False\n",
       "9                 violence  0.000137   False\n",
       "10        violence_graphic  0.000057   False\n",
       "11               self-harm  0.000025   False\n",
       "12           sexual/minors  0.000161   False\n",
       "13        hate/threatening  0.000005   False\n",
       "14        violence/graphic  0.000057   False\n",
       "15        self-harm/intent  0.000008   False\n",
       "16  self-harm/instructions  0.000005   False\n",
       "17  harassment/threatening  0.000005   False"
      ]
     },
     "execution_count": 31,
     "metadata": {},
     "output_type": "execute_result"
    }
   ],
   "source": [
    "judgement  = category_scores.merge(moderation_cate, on='category')\n",
    "judgement"
   ]
  },
  {
   "cell_type": "markdown",
   "metadata": {},
   "source": [
    "#### 检查是否符合产品信息"
   ]
  },
  {
   "cell_type": "code",
   "execution_count": 7,
   "metadata": {},
   "outputs": [
    {
     "name": "stdout",
     "output_type": "stream",
     "text": [
      "('N', {'prompt_tokens': 1188, 'completion_tokens': 1, 'total_tokens': 1189})\n"
     ]
    }
   ],
   "source": [
    "# 这是一段电子产品相关的信息\n",
    "system_message = f\"\"\"\n",
    "您是一个助理，用于评估客服代理的回复是否充分回答了客户问题，\\\n",
    "并验证助理从产品信息中引用的所有事实是否正确。 \n",
    "产品信息、用户和客服代理的信息将使用三个反引号（即 ```）\\\n",
    "进行分隔。 \n",
    "请以 Y 或 N 的字符形式进行回复，不要包含标点符号：\\\n",
    "Y - 如果输出充分回答了问题并且回复正确地使用了产品信息\\\n",
    "N - 其他情况。\n",
    "\n",
    "仅输出单个字母。\n",
    "\"\"\"\n",
    "\n",
    "#这是顾客的提问\n",
    "customer_message = f\"\"\"\n",
    "告诉我有关 smartx pro 手机\\\n",
    "和 fotosnap 相机（单反相机）的信息。\\\n",
    "还有您电视的信息。\n",
    "\"\"\"\n",
    "product_information = \"\"\"{ \"name\": \"SmartX ProPhone\", \"category\": \"Smartphones and Accessories\", \"brand\": \"SmartX\", \"model_number\": \"SX-PP10\", \"warranty\": \"1 year\", \"rating\": 4.6, \"features\": [ \"6.1-inch display\", \"128GB storage\", \"12MP dual camera\", \"5G\" ], \"description\": \"A powerful smartphone with advanced camera features.\", \"price\": 899.99 } { \"name\": \"FotoSnap DSLR Camera\", \"category\": \"Cameras and Camcorders\", \"brand\": \"FotoSnap\", \"model_number\": \"FS-DSLR200\", \"warranty\": \"1 year\", \"rating\": 4.7, \"features\": [ \"24.2MP sensor\", \"1080p video\", \"3-inch LCD\", \"Interchangeable lenses\" ], \"description\": \"Capture stunning photos and videos with this versatile DSLR camera.\", \"price\": 599.99 } { \"name\": \"CineView 4K TV\", \"category\": \"Televisions and Home Theater Systems\", \"brand\": \"CineView\", \"model_number\": \"CV-4K55\", \"warranty\": \"2 years\", \"rating\": 4.8, \"features\": [ \"55-inch display\", \"4K resolution\", \"HDR\", \"Smart TV\" ], \"description\": \"A stunning 4K TV with vibrant colors and smart features.\", \"price\": 599.99 } { \"name\": \"SoundMax Home Theater\", \"category\": \"Televisions and Home Theater Systems\", \"brand\": \"SoundMax\", \"model_number\": \"SM-HT100\", \"warranty\": \"1 year\", \"rating\": 4.4, \"features\": [ \"5.1 channel\", \"1000W output\", \"Wireless subwoofer\", \"Bluetooth\" ], \"description\": \"A powerful home theater system for an immersive audio experience.\", \"price\": 399.99 } { \"name\": \"CineView 8K TV\", \"category\": \"Televisions and Home Theater Systems\", \"brand\": \"CineView\", \"model_number\": \"CV-8K65\", \"warranty\": \"2 years\", \"rating\": 4.9, \"features\": [ \"65-inch display\", \"8K resolution\", \"HDR\", \"Smart TV\" ], \"description\": \"Experience the future of television with this stunning 8K TV.\", \"price\": 2999.99 } { \"name\": \"SoundMax Soundbar\", \"category\": \"Televisions and Home Theater Systems\", \"brand\": \"SoundMax\", \"model_number\": \"SM-SB50\", \"warranty\": \"1 year\", \"rating\": 4.3, \"features\": [ \"2.1 channel\", \"300W output\", \"Wireless subwoofer\", \"Bluetooth\" ], \"description\": \"Upgrade your TV's audio with this sleek and powerful soundbar.\", \"price\": 199.99 } { \"name\": \"CineView OLED TV\", \"category\": \"Televisions and Home Theater Systems\", \"brand\": \"CineView\", \"model_number\": \"CV-OLED55\", \"warranty\": \"2 years\", \"rating\": 4.7, \"features\": [ \"55-inch display\", \"4K resolution\", \"HDR\", \"Smart TV\" ], \"description\": \"Experience true blacks and vibrant colors with this OLED TV.\", \"price\": 1499.99 }\"\"\"\n",
    "\n",
    "q_a_pair = f\"\"\"\n",
    "顾客的信息: ```{customer_message}```\n",
    "产品信息: ```{product_information}```\n",
    "代理的回复: ```{final_response_to_customer}```\n",
    "\n",
    "代理回复是否借助了产品信息正确回答了顾客的提问？\n",
    "\n",
    "若赞同输出 Y，不赞同输出N\n",
    "\"\"\"\n",
    "#判断相关性\n",
    "messages = [\n",
    "    {'role': 'system', 'content': system_message},\n",
    "    {'role': 'user', 'content': q_a_pair}\n",
    "]\n",
    "\n",
    "response = get_completion_and_token_count(messages, max_tokens=1)\n",
    "print(response)\n"
   ]
  },
  {
   "cell_type": "code",
   "execution_count": 36,
   "metadata": {},
   "outputs": [
    {
     "name": "stdout",
     "output_type": "stream",
     "text": [
      "N\n"
     ]
    }
   ],
   "source": [
    "another_response = \"生活就像一盒巧克力\"\n",
    "q_a_pair = f\"\"\"\n",
    "顾客的信息: ```{customer_message}```\n",
    "产品信息: ```{product_information}```\n",
    "代理的回复: ```{another_response}```\n",
    "\n",
    "回复是否正确使用了检索的信息？\n",
    "回复是否充分地回答了问题？\n",
    "\n",
    "输出 Y 或 N\n",
    "\"\"\"\n",
    "messages = [\n",
    "    {'role': 'system', 'content': system_message},\n",
    "    {'role': 'user', 'content': q_a_pair}\n",
    "]\n",
    "\n",
    "response = get_completion_from_messages(messages)\n",
    "print(response)"
   ]
  },
  {
   "cell_type": "code",
   "execution_count": null,
   "metadata": {},
   "outputs": [],
   "source": []
  }
 ],
 "metadata": {
  "kernelspec": {
   "display_name": "llm-universe",
   "language": "python",
   "name": "python3"
  },
  "language_info": {
   "codemirror_mode": {
    "name": "ipython",
    "version": 3
   },
   "file_extension": ".py",
   "mimetype": "text/x-python",
   "name": "python",
   "nbconvert_exporter": "python",
   "pygments_lexer": "ipython3",
   "version": "3.10.14"
  }
 },
 "nbformat": 4,
 "nbformat_minor": 2
}
